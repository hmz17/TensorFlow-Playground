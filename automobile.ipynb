{
  "nbformat": 4,
  "nbformat_minor": 0,
  "metadata": {
    "colab": {
      "name": "automobile.ipynb",
      "version": "0.3.2",
      "provenance": [],
      "include_colab_link": true
    },
    "kernelspec": {
      "name": "python3",
      "display_name": "Python 3"
    }
  },
  "cells": [
    {
      "cell_type": "markdown",
      "metadata": {
        "id": "view-in-github",
        "colab_type": "text"
      },
      "source": [
        "<a href=\"https://colab.research.google.com/github/hmz17/TensorFlow-Playground/blob/master/automobile.ipynb\" target=\"_parent\"><img src=\"https://colab.research.google.com/assets/colab-badge.svg\" alt=\"Open In Colab\"/></a>"
      ]
    },
    {
      "metadata": {
        "id": "NeQby7-U7Qxx",
        "colab_type": "code",
        "colab": {}
      },
      "cell_type": "code",
      "source": [
        "from __future__ import print_function\n",
        "from __future__ import division\n",
        "from __future__ import absolute_import"
      ],
      "execution_count": 0,
      "outputs": []
    },
    {
      "metadata": {
        "id": "dF5YZ9577uSo",
        "colab_type": "code",
        "colab": {}
      },
      "cell_type": "code",
      "source": [
        "import pandas as pd\n",
        "import numpy as np"
      ],
      "execution_count": 0,
      "outputs": []
    },
    {
      "metadata": {
        "id": "j4qRKN6-73L6",
        "colab_type": "code",
        "colab": {}
      },
      "cell_type": "code",
      "source": [
        "# The CSV file does not have a header, so we have to fill in column names.\n",
        "names = [\n",
        "    'symboling', \n",
        "    'normalized-losses', \n",
        "    'make', \n",
        "    'fuel-type', \n",
        "    'aspiration',\n",
        "    'num-of-doors',\n",
        "    'body-style',\n",
        "    'drive-wheels',\n",
        "    'engine-location',\n",
        "    'wheel-base',\n",
        "    'length',\n",
        "    'width',\n",
        "    'height',\n",
        "    'curb-weight',\n",
        "    'engine-type',\n",
        "    'num-of-cylinders',\n",
        "    'engine-size',\n",
        "    'fuel-system',\n",
        "    'bore',\n",
        "    'stroke',\n",
        "    'compression-ratio',\n",
        "    'horsepower',\n",
        "    'peak-rpm',\n",
        "    'city-mpg',\n",
        "    'highway-mpg',\n",
        "    'price',\n",
        "]\n",
        "\n",
        "# We also have to specify dtypes.\n",
        "dtypes = {\n",
        "    'symboling': np.int32, \n",
        "    'normalized-losses': np.float32, \n",
        "    'make': str, \n",
        "    'fuel-type': str, \n",
        "    'aspiration': str,\n",
        "    'num-of-doors': str,\n",
        "    'body-style': str,\n",
        "    'drive-wheels': str,\n",
        "    'engine-location': str,\n",
        "    'wheel-base': np.float32,\n",
        "    'length': np.float32,\n",
        "    'width': np.float32,\n",
        "    'height': np.float32,\n",
        "    'curb-weight': np.float32,\n",
        "    'engine-type': str,\n",
        "    'num-of-cylinders': str,\n",
        "    'engine-size': np.float32,\n",
        "    'fuel-system': str,\n",
        "    'bore': np.float32,\n",
        "    'stroke': np.float32,\n",
        "    'compression-ratio': np.float32,\n",
        "    'horsepower': np.float32,\n",
        "    'peak-rpm': np.float32,\n",
        "    'city-mpg': np.float32,\n",
        "    'highway-mpg': np.float32,\n",
        "    'price': np.float32,    \n",
        "}"
      ],
      "execution_count": 0,
      "outputs": []
    },
    {
      "metadata": {
        "id": "eamsbLc68azX",
        "colab_type": "code",
        "colab": {}
      },
      "cell_type": "code",
      "source": [
        "# Read the file.\n",
        "df = pd.read_csv('imports-85.data.txt', names=names, dtype=dtypes, na_values='?')"
      ],
      "execution_count": 0,
      "outputs": []
    },
    {
      "metadata": {
        "id": "wG9m9OoD84ww",
        "colab_type": "code",
        "colab": {}
      },
      "cell_type": "code",
      "source": [
        "# Some rows don't have price data, we can't use those.\n",
        "df = df.dropna(axis='rows', how='any', subset=['price'])"
      ],
      "execution_count": 0,
      "outputs": []
    },
    {
      "metadata": {
        "id": "SyydI2eO_coD",
        "colab_type": "code",
        "colab": {}
      },
      "cell_type": "code",
      "source": [
        "# Fill missing values in continuous columns with zeros instead of NaN.\n",
        "float_columns = [k for k,v in dtypes.items() if v == np.float32]\n",
        "df[float_columns] = df[float_columns].fillna(value=0., axis='columns')\n",
        "# Fill missing values in continuous columns with '' instead of NaN (NaN mixed with strings is very bad for us).\n",
        "string_columns = [k for k,v in dtypes.items() if v == str]\n",
        "df[string_columns] = df[string_columns].fillna(value='', axis='columns')"
      ],
      "execution_count": 0,
      "outputs": []
    },
    {
      "metadata": {
        "id": "UWn9ld5F_i7j",
        "colab_type": "code",
        "colab": {}
      },
      "cell_type": "code",
      "source": [
        "# Split the data into a training set and an eval set.\n",
        "training_data = df[:160]\n",
        "eval_data = df[160:]\n",
        "\n",
        "# Separate input features from labels\n",
        "training_label = training_data.pop('price')\n",
        "eval_label = eval_data.pop('price')"
      ],
      "execution_count": 0,
      "outputs": []
    },
    {
      "metadata": {
        "id": "0CgWDj1U_keR",
        "colab_type": "code",
        "colab": {
          "base_uri": "https://localhost:8080/",
          "height": 50
        },
        "outputId": "66b2d0c3-445f-4831-e00c-45f079c79974"
      },
      "cell_type": "code",
      "source": [
        "# Now we can start using some TensorFlow.\n",
        "import tensorflow as tf\n",
        "print('please make sure that version >= 1.2:')\n",
        "print(tf.__version__)"
      ],
      "execution_count": 8,
      "outputs": [
        {
          "output_type": "stream",
          "text": [
            "please make sure that version >= 1.2:\n",
            "1.12.0-rc1\n"
          ],
          "name": "stdout"
        }
      ]
    },
    {
      "metadata": {
        "id": "XfSx6ult_mnm",
        "colab_type": "code",
        "colab": {}
      },
      "cell_type": "code",
      "source": [
        "# Make input function for training: \n",
        "#   num_epochs=None -> will cycle through input data forever\n",
        "#   shuffle=True -> randomize order of input data\n",
        "training_input_fn = tf.estimator.inputs.pandas_input_fn(x=training_data, y=training_label, batch_size=64, shuffle=True, num_epochs=None)\n",
        "\n",
        "# Make input function for evaluation:\n",
        "#   shuffle=False -> do not randomize input data\n",
        "eval_input_fn = tf.estimator.inputs.pandas_input_fn(x=eval_data, y=eval_label, batch_size=64, shuffle=False)"
      ],
      "execution_count": 0,
      "outputs": []
    },
    {
      "metadata": {
        "id": "TEl1cOr8_pvs",
        "colab_type": "code",
        "colab": {}
      },
      "cell_type": "code",
      "source": [
        "# Describe how the model should interpret the inputs. The names of the feature columns have to match the names\n",
        "# of the series in the dataframe.\n",
        "\n",
        "symboling = tf.feature_column.numeric_column('symboling')\n",
        "normalized_losses = tf.feature_column.numeric_column('normalized-losses')\n",
        "make = tf.feature_column.categorical_column_with_hash_bucket('make', 50)\n",
        "fuel_type = tf.feature_column.categorical_column_with_vocabulary_list('fuel-type', vocabulary_list=['diesel', 'gas'])\n",
        "aspiration = tf.feature_column.categorical_column_with_vocabulary_list('aspiration', vocabulary_list=['std', 'turbo'])\n",
        "num_of_doors = tf.feature_column.categorical_column_with_vocabulary_list('num-of-doors', vocabulary_list=['two', 'four'])\n",
        "body_style = tf.feature_column.categorical_column_with_vocabulary_list('body-style', vocabulary_list=['hardtop', 'wagon', 'sedan', 'hatchback', 'convertible'])\n",
        "drive_wheels = tf.feature_column.categorical_column_with_vocabulary_list('drive-wheels', vocabulary_list=['4wd', 'rwd', 'fwd'])\n",
        "engine_location = tf.feature_column.categorical_column_with_vocabulary_list('engine-location', vocabulary_list=['front', 'rear'])\n",
        "wheel_base = tf.feature_column.numeric_column('wheel-base')\n",
        "length = tf.feature_column.numeric_column('length')\n",
        "width = tf.feature_column.numeric_column('width')\n",
        "height = tf.feature_column.numeric_column('height')\n",
        "curb_weight = tf.feature_column.numeric_column('curb-weight')\n",
        "engine_type = tf.feature_column.categorical_column_with_vocabulary_list('engine-type', ['dohc', 'dohcv', 'l', 'ohc', 'ohcf', 'ohcv', 'rotor'])\n",
        "num_of_cylinders = tf.feature_column.categorical_column_with_vocabulary_list('num-of-cylinders', ['eight', 'five', 'four', 'six', 'three', 'twelve', 'two'])\n",
        "engine_size = tf.feature_column.numeric_column('engine-size')\n",
        "fuel_system = tf.feature_column.categorical_column_with_vocabulary_list('fuel-system', ['1bbl', '2bbl', '4bbl', 'idi', 'mfi', 'mpfi', 'spdi', 'spfi'])\n",
        "bore = tf.feature_column.numeric_column('bore')\n",
        "stroke = tf.feature_column.numeric_column('stroke')\n",
        "compression_ratio = tf.feature_column.numeric_column('compression-ratio')\n",
        "horsepower = tf.feature_column.numeric_column('horsepower')\n",
        "peak_rpm = tf.feature_column.numeric_column('peak-rpm')\n",
        "city_mpg = tf.feature_column.numeric_column('city-mpg')\n",
        "highway_mpg = tf.feature_column.numeric_column('highway-mpg')"
      ],
      "execution_count": 0,
      "outputs": []
    },
    {
      "metadata": {
        "id": "OgvmJpLi_snD",
        "colab_type": "code",
        "colab": {}
      },
      "cell_type": "code",
      "source": [
        "linear_features = [symboling, normalized_losses, make, fuel_type, aspiration, num_of_doors,\n",
        "                   body_style, drive_wheels, engine_location, wheel_base, length, width,\n",
        "                   height, curb_weight, engine_type, num_of_cylinders, engine_size, fuel_system,\n",
        "                   bore, stroke, compression_ratio, horsepower, peak_rpm, city_mpg, highway_mpg]"
      ],
      "execution_count": 0,
      "outputs": []
    },
    {
      "metadata": {
        "id": "iZ_KTetC_wOx",
        "colab_type": "code",
        "colab": {
          "base_uri": "https://localhost:8080/",
          "height": 289
        },
        "outputId": "e222a316-065e-412f-dc00-4f0403c4708b"
      },
      "cell_type": "code",
      "source": [
        "regressor = tf.contrib.learn.LinearRegressor(feature_columns=linear_features)"
      ],
      "execution_count": 12,
      "outputs": [
        {
          "output_type": "stream",
          "text": [
            "WARNING:tensorflow:From /usr/local/lib/python3.6/dist-packages/tensorflow/contrib/learn/python/learn/estimators/linear.py:740: regression_head (from tensorflow.contrib.learn.python.learn.estimators.head) is deprecated and will be removed in a future version.\n",
            "Instructions for updating:\n",
            "Please switch to tf.contrib.estimator.*_head.\n",
            "WARNING:tensorflow:From /usr/local/lib/python3.6/dist-packages/tensorflow/contrib/learn/python/learn/estimators/estimator.py:1180: BaseEstimator.__init__ (from tensorflow.contrib.learn.python.learn.estimators.estimator) is deprecated and will be removed in a future version.\n",
            "Instructions for updating:\n",
            "Please replace uses of any Estimator from tf.contrib.learn with an Estimator from tf.estimator.*\n",
            "WARNING:tensorflow:From /usr/local/lib/python3.6/dist-packages/tensorflow/contrib/learn/python/learn/estimators/estimator.py:428: RunConfig.__init__ (from tensorflow.contrib.learn.python.learn.estimators.run_config) is deprecated and will be removed in a future version.\n",
            "Instructions for updating:\n",
            "When switching to tf.estimator.Estimator, use tf.estimator.RunConfig instead.\n",
            "INFO:tensorflow:Using default config.\n",
            "WARNING:tensorflow:Using temporary folder as model directory: /tmp/tmpb10ovquh\n",
            "INFO:tensorflow:Using config: {'_task_type': None, '_task_id': 0, '_cluster_spec': <tensorflow.python.training.server_lib.ClusterSpec object at 0x7f2ca6e00198>, '_master': '', '_num_ps_replicas': 0, '_num_worker_replicas': 0, '_environment': 'local', '_is_chief': True, '_evaluation_master': '', '_train_distribute': None, '_eval_distribute': None, '_device_fn': None, '_tf_config': gpu_options {\n",
            "  per_process_gpu_memory_fraction: 1.0\n",
            "}\n",
            ", '_tf_random_seed': None, '_save_summary_steps': 100, '_save_checkpoints_secs': 600, '_log_step_count_steps': 100, '_protocol': None, '_session_config': None, '_save_checkpoints_steps': None, '_keep_checkpoint_max': 5, '_keep_checkpoint_every_n_hours': 10000, '_model_dir': '/tmp/tmpb10ovquh'}\n"
          ],
          "name": "stdout"
        }
      ]
    },
    {
      "metadata": {
        "id": "RbRvIhEK_yWp",
        "colab_type": "code",
        "colab": {
          "base_uri": "https://localhost:8080/",
          "height": 3716
        },
        "outputId": "20aae17e-f3e5-4f9b-9016-db13c687f6e4"
      },
      "cell_type": "code",
      "source": [
        "regressor.fit(input_fn=training_input_fn, steps=10000)"
      ],
      "execution_count": 13,
      "outputs": [
        {
          "output_type": "stream",
          "text": [
            "WARNING:tensorflow:From /usr/local/lib/python3.6/dist-packages/tensorflow/python/estimator/inputs/queues/feeding_queue_runner.py:62: QueueRunner.__init__ (from tensorflow.python.training.queue_runner_impl) is deprecated and will be removed in a future version.\n",
            "Instructions for updating:\n",
            "To construct input pipelines, use the `tf.data` module.\n",
            "WARNING:tensorflow:From /usr/local/lib/python3.6/dist-packages/tensorflow/python/estimator/inputs/queues/feeding_functions.py:500: add_queue_runner (from tensorflow.python.training.queue_runner_impl) is deprecated and will be removed in a future version.\n",
            "Instructions for updating:\n",
            "To construct input pipelines, use the `tf.data` module.\n",
            "WARNING:tensorflow:From /usr/local/lib/python3.6/dist-packages/tensorflow/contrib/learn/python/learn/estimators/head.py:678: ModelFnOps.__new__ (from tensorflow.contrib.learn.python.learn.estimators.model_fn) is deprecated and will be removed in a future version.\n",
            "Instructions for updating:\n",
            "When switching to tf.estimator.Estimator, use tf.estimator.EstimatorSpec. You can use the `estimator_spec` method to create an equivalent one.\n",
            "INFO:tensorflow:Create CheckpointSaverHook.\n",
            "INFO:tensorflow:Graph was finalized.\n",
            "INFO:tensorflow:Running local_init_op.\n",
            "INFO:tensorflow:Done running local_init_op.\n",
            "WARNING:tensorflow:From /usr/local/lib/python3.6/dist-packages/tensorflow/python/training/monitored_session.py:804: start_queue_runners (from tensorflow.python.training.queue_runner_impl) is deprecated and will be removed in a future version.\n",
            "Instructions for updating:\n",
            "To construct input pipelines, use the `tf.data` module.\n",
            "INFO:tensorflow:Saving checkpoints for 0 into /tmp/tmpb10ovquh/model.ckpt.\n",
            "INFO:tensorflow:loss = 241333810.0, step = 1\n",
            "INFO:tensorflow:global_step/sec: 84.8808\n",
            "INFO:tensorflow:loss = 49293070.0, step = 101 (1.179 sec)\n",
            "INFO:tensorflow:global_step/sec: 140.887\n",
            "INFO:tensorflow:loss = 72785740.0, step = 201 (0.713 sec)\n",
            "INFO:tensorflow:global_step/sec: 138.182\n",
            "INFO:tensorflow:loss = 49534364.0, step = 301 (0.721 sec)\n",
            "INFO:tensorflow:global_step/sec: 138.255\n",
            "INFO:tensorflow:loss = 48385508.0, step = 401 (0.735 sec)\n",
            "INFO:tensorflow:global_step/sec: 139.673\n",
            "INFO:tensorflow:loss = 58312784.0, step = 501 (0.705 sec)\n",
            "INFO:tensorflow:global_step/sec: 137.227\n",
            "INFO:tensorflow:loss = 21596678.0, step = 601 (0.740 sec)\n",
            "INFO:tensorflow:global_step/sec: 139.268\n",
            "INFO:tensorflow:loss = 37253916.0, step = 701 (0.705 sec)\n",
            "INFO:tensorflow:global_step/sec: 138.183\n",
            "INFO:tensorflow:loss = 40129060.0, step = 801 (0.724 sec)\n",
            "INFO:tensorflow:global_step/sec: 137.816\n",
            "INFO:tensorflow:loss = 30624564.0, step = 901 (0.729 sec)\n",
            "INFO:tensorflow:global_step/sec: 138.287\n",
            "INFO:tensorflow:loss = 30618016.0, step = 1001 (0.722 sec)\n",
            "INFO:tensorflow:global_step/sec: 135.827\n",
            "INFO:tensorflow:loss = 22928190.0, step = 1101 (0.738 sec)\n",
            "INFO:tensorflow:global_step/sec: 140.121\n",
            "INFO:tensorflow:loss = 38688984.0, step = 1201 (0.722 sec)\n",
            "INFO:tensorflow:global_step/sec: 139.97\n",
            "INFO:tensorflow:loss = 43068640.0, step = 1301 (0.710 sec)\n",
            "INFO:tensorflow:global_step/sec: 139.111\n",
            "INFO:tensorflow:loss = 24018982.0, step = 1401 (0.722 sec)\n",
            "INFO:tensorflow:global_step/sec: 140.319\n",
            "INFO:tensorflow:loss = 24624122.0, step = 1501 (0.703 sec)\n",
            "INFO:tensorflow:global_step/sec: 139.615\n",
            "INFO:tensorflow:loss = 50323170.0, step = 1601 (0.717 sec)\n",
            "INFO:tensorflow:global_step/sec: 137.538\n",
            "INFO:tensorflow:loss = 21820316.0, step = 1701 (0.730 sec)\n",
            "INFO:tensorflow:global_step/sec: 138.473\n",
            "INFO:tensorflow:loss = 34468690.0, step = 1801 (0.719 sec)\n",
            "INFO:tensorflow:global_step/sec: 140.001\n",
            "INFO:tensorflow:loss = 43697616.0, step = 1901 (0.716 sec)\n",
            "INFO:tensorflow:global_step/sec: 138.862\n",
            "INFO:tensorflow:loss = 15632506.0, step = 2001 (0.719 sec)\n",
            "INFO:tensorflow:global_step/sec: 139.389\n",
            "INFO:tensorflow:loss = 18717204.0, step = 2101 (0.730 sec)\n",
            "INFO:tensorflow:global_step/sec: 138.156\n",
            "INFO:tensorflow:loss = 38417212.0, step = 2201 (0.715 sec)\n",
            "INFO:tensorflow:global_step/sec: 137.74\n",
            "INFO:tensorflow:loss = 39396852.0, step = 2301 (0.721 sec)\n",
            "INFO:tensorflow:global_step/sec: 137.81\n",
            "INFO:tensorflow:loss = 20199532.0, step = 2401 (0.726 sec)\n",
            "INFO:tensorflow:global_step/sec: 136.609\n",
            "INFO:tensorflow:loss = 40278332.0, step = 2501 (0.735 sec)\n",
            "INFO:tensorflow:global_step/sec: 139.499\n",
            "INFO:tensorflow:loss = 19089108.0, step = 2601 (0.717 sec)\n",
            "INFO:tensorflow:global_step/sec: 138.773\n",
            "INFO:tensorflow:loss = 29414984.0, step = 2701 (0.727 sec)\n",
            "INFO:tensorflow:global_step/sec: 138.903\n",
            "INFO:tensorflow:loss = 16547041.0, step = 2801 (0.712 sec)\n",
            "INFO:tensorflow:global_step/sec: 138.872\n",
            "INFO:tensorflow:loss = 16106486.0, step = 2901 (0.721 sec)\n",
            "INFO:tensorflow:global_step/sec: 137.359\n",
            "INFO:tensorflow:loss = 41836344.0, step = 3001 (0.736 sec)\n",
            "INFO:tensorflow:global_step/sec: 139.292\n",
            "INFO:tensorflow:loss = 24164372.0, step = 3101 (0.715 sec)\n",
            "INFO:tensorflow:global_step/sec: 141.97\n",
            "INFO:tensorflow:loss = 34738760.0, step = 3201 (0.703 sec)\n",
            "INFO:tensorflow:global_step/sec: 140.035\n",
            "INFO:tensorflow:loss = 18970190.0, step = 3301 (0.711 sec)\n",
            "INFO:tensorflow:global_step/sec: 140.719\n",
            "INFO:tensorflow:loss = 34692932.0, step = 3401 (0.708 sec)\n",
            "INFO:tensorflow:global_step/sec: 137.042\n",
            "INFO:tensorflow:loss = 16956226.0, step = 3501 (0.739 sec)\n",
            "INFO:tensorflow:global_step/sec: 139.256\n",
            "INFO:tensorflow:loss = 26839156.0, step = 3601 (0.709 sec)\n",
            "INFO:tensorflow:global_step/sec: 140.949\n",
            "INFO:tensorflow:loss = 30742694.0, step = 3701 (0.716 sec)\n",
            "INFO:tensorflow:global_step/sec: 140.561\n",
            "INFO:tensorflow:loss = 25107708.0, step = 3801 (0.709 sec)\n",
            "INFO:tensorflow:global_step/sec: 140.253\n",
            "INFO:tensorflow:loss = 25837308.0, step = 3901 (0.708 sec)\n",
            "INFO:tensorflow:global_step/sec: 141.848\n",
            "INFO:tensorflow:loss = 29317484.0, step = 4001 (0.706 sec)\n",
            "INFO:tensorflow:global_step/sec: 137.685\n",
            "INFO:tensorflow:loss = 26482316.0, step = 4101 (0.724 sec)\n",
            "INFO:tensorflow:global_step/sec: 136.763\n",
            "INFO:tensorflow:loss = 18008074.0, step = 4201 (0.734 sec)\n",
            "INFO:tensorflow:global_step/sec: 137.495\n",
            "INFO:tensorflow:loss = 21578070.0, step = 4301 (0.725 sec)\n",
            "INFO:tensorflow:global_step/sec: 137.269\n",
            "INFO:tensorflow:loss = 25356940.0, step = 4401 (0.737 sec)\n",
            "INFO:tensorflow:global_step/sec: 138.859\n",
            "INFO:tensorflow:loss = 27542636.0, step = 4501 (0.711 sec)\n",
            "INFO:tensorflow:global_step/sec: 140.804\n",
            "INFO:tensorflow:loss = 20111270.0, step = 4601 (0.719 sec)\n",
            "INFO:tensorflow:global_step/sec: 137.984\n",
            "INFO:tensorflow:loss = 24737064.0, step = 4701 (0.718 sec)\n",
            "INFO:tensorflow:global_step/sec: 137.388\n",
            "INFO:tensorflow:loss = 28375430.0, step = 4801 (0.730 sec)\n",
            "INFO:tensorflow:global_step/sec: 139.13\n",
            "INFO:tensorflow:loss = 28188220.0, step = 4901 (0.716 sec)\n",
            "INFO:tensorflow:global_step/sec: 135.413\n",
            "INFO:tensorflow:loss = 12527006.0, step = 5001 (0.744 sec)\n",
            "INFO:tensorflow:global_step/sec: 138.36\n",
            "INFO:tensorflow:loss = 29596546.0, step = 5101 (0.717 sec)\n",
            "INFO:tensorflow:global_step/sec: 137.937\n",
            "INFO:tensorflow:loss = 22094326.0, step = 5201 (0.725 sec)\n",
            "INFO:tensorflow:global_step/sec: 137.578\n",
            "INFO:tensorflow:loss = 32380310.0, step = 5301 (0.729 sec)\n",
            "INFO:tensorflow:global_step/sec: 138.249\n",
            "INFO:tensorflow:loss = 18733458.0, step = 5401 (0.729 sec)\n",
            "INFO:tensorflow:global_step/sec: 138.949\n",
            "INFO:tensorflow:loss = 7600559.0, step = 5501 (0.723 sec)\n",
            "INFO:tensorflow:global_step/sec: 138.45\n",
            "INFO:tensorflow:loss = 24027112.0, step = 5601 (0.716 sec)\n",
            "INFO:tensorflow:global_step/sec: 134.623\n",
            "INFO:tensorflow:loss = 17642578.0, step = 5701 (0.737 sec)\n",
            "INFO:tensorflow:global_step/sec: 137.577\n",
            "INFO:tensorflow:loss = 26091616.0, step = 5801 (0.731 sec)\n",
            "INFO:tensorflow:global_step/sec: 142.989\n",
            "INFO:tensorflow:loss = 26681840.0, step = 5901 (0.696 sec)\n",
            "INFO:tensorflow:global_step/sec: 138.803\n",
            "INFO:tensorflow:loss = 19752636.0, step = 6001 (0.726 sec)\n",
            "INFO:tensorflow:global_step/sec: 140.113\n",
            "INFO:tensorflow:loss = 22863600.0, step = 6101 (0.716 sec)\n",
            "INFO:tensorflow:global_step/sec: 141.911\n",
            "INFO:tensorflow:loss = 25366880.0, step = 6201 (0.697 sec)\n",
            "INFO:tensorflow:global_step/sec: 140.182\n",
            "INFO:tensorflow:loss = 24928112.0, step = 6301 (0.717 sec)\n",
            "INFO:tensorflow:global_step/sec: 140.441\n",
            "INFO:tensorflow:loss = 23105312.0, step = 6401 (0.708 sec)\n",
            "INFO:tensorflow:global_step/sec: 139.396\n",
            "INFO:tensorflow:loss = 22432852.0, step = 6501 (0.726 sec)\n",
            "INFO:tensorflow:global_step/sec: 140.513\n",
            "INFO:tensorflow:loss = 21031100.0, step = 6601 (0.713 sec)\n",
            "INFO:tensorflow:global_step/sec: 135.648\n",
            "INFO:tensorflow:loss = 13532876.0, step = 6701 (0.727 sec)\n",
            "INFO:tensorflow:global_step/sec: 137.699\n",
            "INFO:tensorflow:loss = 21762606.0, step = 6801 (0.735 sec)\n",
            "INFO:tensorflow:global_step/sec: 137.767\n",
            "INFO:tensorflow:loss = 17999842.0, step = 6901 (0.726 sec)\n",
            "INFO:tensorflow:global_step/sec: 138.021\n",
            "INFO:tensorflow:loss = 22683820.0, step = 7001 (0.720 sec)\n",
            "INFO:tensorflow:global_step/sec: 140.264\n",
            "INFO:tensorflow:loss = 20937074.0, step = 7101 (0.709 sec)\n",
            "INFO:tensorflow:global_step/sec: 139.513\n",
            "INFO:tensorflow:loss = 16285269.0, step = 7201 (0.716 sec)\n",
            "INFO:tensorflow:global_step/sec: 139.301\n",
            "INFO:tensorflow:loss = 17213142.0, step = 7301 (0.718 sec)\n",
            "INFO:tensorflow:global_step/sec: 139.797\n",
            "INFO:tensorflow:loss = 20006400.0, step = 7401 (0.715 sec)\n",
            "INFO:tensorflow:global_step/sec: 142.188\n",
            "INFO:tensorflow:loss = 26385140.0, step = 7501 (0.706 sec)\n",
            "INFO:tensorflow:global_step/sec: 139.569\n",
            "INFO:tensorflow:loss = 27038134.0, step = 7601 (0.723 sec)\n",
            "INFO:tensorflow:global_step/sec: 140.166\n",
            "INFO:tensorflow:loss = 27518082.0, step = 7701 (0.706 sec)\n",
            "INFO:tensorflow:global_step/sec: 139.772\n",
            "INFO:tensorflow:loss = 17568750.0, step = 7801 (0.718 sec)\n",
            "INFO:tensorflow:global_step/sec: 141.689\n",
            "INFO:tensorflow:loss = 21554372.0, step = 7901 (0.703 sec)\n",
            "INFO:tensorflow:global_step/sec: 140.774\n",
            "INFO:tensorflow:loss = 18735964.0, step = 8001 (0.719 sec)\n",
            "INFO:tensorflow:global_step/sec: 140.857\n",
            "INFO:tensorflow:loss = 24130180.0, step = 8101 (0.704 sec)\n",
            "INFO:tensorflow:global_step/sec: 139.699\n",
            "INFO:tensorflow:loss = 18357466.0, step = 8201 (0.713 sec)\n",
            "INFO:tensorflow:global_step/sec: 138.832\n",
            "INFO:tensorflow:loss = 18727372.0, step = 8301 (0.725 sec)\n",
            "INFO:tensorflow:global_step/sec: 139.129\n",
            "INFO:tensorflow:loss = 31336654.0, step = 8401 (0.722 sec)\n",
            "INFO:tensorflow:global_step/sec: 138.318\n",
            "INFO:tensorflow:loss = 17088938.0, step = 8501 (0.719 sec)\n",
            "INFO:tensorflow:global_step/sec: 138.641\n",
            "INFO:tensorflow:loss = 22359176.0, step = 8601 (0.725 sec)\n",
            "INFO:tensorflow:global_step/sec: 139.868\n",
            "INFO:tensorflow:loss = 19173666.0, step = 8701 (0.712 sec)\n",
            "INFO:tensorflow:global_step/sec: 139.495\n",
            "INFO:tensorflow:loss = 25901776.0, step = 8801 (0.713 sec)\n",
            "INFO:tensorflow:global_step/sec: 138.871\n",
            "INFO:tensorflow:loss = 17624464.0, step = 8901 (0.719 sec)\n",
            "INFO:tensorflow:global_step/sec: 140.913\n",
            "INFO:tensorflow:loss = 16771301.0, step = 9001 (0.716 sec)\n",
            "INFO:tensorflow:global_step/sec: 138.541\n",
            "INFO:tensorflow:loss = 19232156.0, step = 9101 (0.727 sec)\n",
            "INFO:tensorflow:global_step/sec: 137.978\n",
            "INFO:tensorflow:loss = 27262916.0, step = 9201 (0.722 sec)\n",
            "INFO:tensorflow:global_step/sec: 138.177\n",
            "INFO:tensorflow:loss = 17021236.0, step = 9301 (0.722 sec)\n",
            "INFO:tensorflow:global_step/sec: 139.236\n",
            "INFO:tensorflow:loss = 26965900.0, step = 9401 (0.717 sec)\n",
            "INFO:tensorflow:global_step/sec: 138.1\n",
            "INFO:tensorflow:loss = 16582860.0, step = 9501 (0.722 sec)\n",
            "INFO:tensorflow:global_step/sec: 140.143\n",
            "INFO:tensorflow:loss = 26800342.0, step = 9601 (0.714 sec)\n",
            "INFO:tensorflow:global_step/sec: 139.348\n",
            "INFO:tensorflow:loss = 16904206.0, step = 9701 (0.713 sec)\n",
            "INFO:tensorflow:global_step/sec: 140.546\n",
            "INFO:tensorflow:loss = 22761674.0, step = 9801 (0.718 sec)\n",
            "INFO:tensorflow:global_step/sec: 141.75\n",
            "INFO:tensorflow:loss = 31702090.0, step = 9901 (0.699 sec)\n",
            "INFO:tensorflow:Saving checkpoints for 10000 into /tmp/tmpb10ovquh/model.ckpt.\n",
            "INFO:tensorflow:Loss for final step: 20900852.0.\n"
          ],
          "name": "stdout"
        },
        {
          "output_type": "execute_result",
          "data": {
            "text/plain": [
              "LinearRegressor(params={'head': <tensorflow.contrib.learn.python.learn.estimators.head._RegressionHead object at 0x7f2ca72fce80>, 'feature_columns': [_NumericColumn(key='symboling', shape=(1,), default_value=None, dtype=tf.float32, normalizer_fn=None), _NumericColumn(key='normalized-losses', shape=(1,), default_value=None, dtype=tf.float32, normalizer_fn=None), _HashedCategoricalColumn(key='make', hash_bucket_size=50, dtype=tf.string), _VocabularyListCategoricalColumn(key='fuel-type', vocabulary_list=('diesel', 'gas'), dtype=tf.string, default_value=-1, num_oov_buckets=0), _VocabularyListCategoricalColumn(key='aspiration', vocabulary_list=('std', 'turbo'), dtype=tf.string, default_value=-1, num_oov_buckets=0), _VocabularyListCategoricalColumn(key='num-of-doors', vocabulary_list=('two', 'four'), dtype=tf.string, default_value=-1, num_oov_buckets=0), _VocabularyListCategoricalColumn(key='body-style', vocabulary_list=('hardtop', 'wagon', 'sedan', 'hatchback', 'convertible'), dtype=tf.string, default_value=-1, num_oov_buckets=0), _VocabularyListCategoricalColumn(key='drive-wheels', vocabulary_list=('4wd', 'rwd', 'fwd'), dtype=tf.string, default_value=-1, num_oov_buckets=0), _VocabularyListCategoricalColumn(key='engine-location', vocabulary_list=('front', 'rear'), dtype=tf.string, default_value=-1, num_oov_buckets=0), _NumericColumn(key='wheel-base', shape=(1,), default_value=None, dtype=tf.float32, normalizer_fn=None), _NumericColumn(key='length', shape=(1,), default_value=None, dtype=tf.float32, normalizer_fn=None), _NumericColumn(key='width', shape=(1,), default_value=None, dtype=tf.float32, normalizer_fn=None), _NumericColumn(key='height', shape=(1,), default_value=None, dtype=tf.float32, normalizer_fn=None), _NumericColumn(key='curb-weight', shape=(1,), default_value=None, dtype=tf.float32, normalizer_fn=None), _VocabularyListCategoricalColumn(key='engine-type', vocabulary_list=('dohc', 'dohcv', 'l', 'ohc', 'ohcf', 'ohcv', 'rotor'), dtype=tf.string, default_value=-1, num_oov_buckets=0), _VocabularyListCategoricalColumn(key='num-of-cylinders', vocabulary_list=('eight', 'five', 'four', 'six', 'three', 'twelve', 'two'), dtype=tf.string, default_value=-1, num_oov_buckets=0), _NumericColumn(key='engine-size', shape=(1,), default_value=None, dtype=tf.float32, normalizer_fn=None), _VocabularyListCategoricalColumn(key='fuel-system', vocabulary_list=('1bbl', '2bbl', '4bbl', 'idi', 'mfi', 'mpfi', 'spdi', 'spfi'), dtype=tf.string, default_value=-1, num_oov_buckets=0), _NumericColumn(key='bore', shape=(1,), default_value=None, dtype=tf.float32, normalizer_fn=None), _NumericColumn(key='stroke', shape=(1,), default_value=None, dtype=tf.float32, normalizer_fn=None), _NumericColumn(key='compression-ratio', shape=(1,), default_value=None, dtype=tf.float32, normalizer_fn=None), _NumericColumn(key='horsepower', shape=(1,), default_value=None, dtype=tf.float32, normalizer_fn=None), _NumericColumn(key='peak-rpm', shape=(1,), default_value=None, dtype=tf.float32, normalizer_fn=None), _NumericColumn(key='city-mpg', shape=(1,), default_value=None, dtype=tf.float32, normalizer_fn=None), _NumericColumn(key='highway-mpg', shape=(1,), default_value=None, dtype=tf.float32, normalizer_fn=None)], 'optimizer': None, 'gradient_clip_norm': None, 'joint_weights': False})"
            ]
          },
          "metadata": {
            "tags": []
          },
          "execution_count": 13
        }
      ]
    },
    {
      "metadata": {
        "id": "fOQHPimUAYMo",
        "colab_type": "code",
        "colab": {}
      },
      "cell_type": "code",
      "source": [
        ""
      ],
      "execution_count": 0,
      "outputs": []
    }
  ]
}